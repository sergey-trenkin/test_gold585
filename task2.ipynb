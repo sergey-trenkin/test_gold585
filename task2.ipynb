{
 "cells": [
  {
   "cell_type": "code",
   "execution_count": 1,
   "id": "ff628baf-2db4-4171-b8e4-f8ce5d2a37f0",
   "metadata": {},
   "outputs": [],
   "source": [
    "import pandas as pd"
   ]
  },
  {
   "cell_type": "code",
   "execution_count": 3,
   "id": "ea4f0b7f-72b0-4aeb-b1bc-93e2b8055769",
   "metadata": {},
   "outputs": [],
   "source": [
    "df = pd.read_csv('shop.csv')"
   ]
  },
  {
   "cell_type": "code",
   "execution_count": 4,
   "id": "4d21ce9f-b002-4fae-8c4e-38cb83ee4d21",
   "metadata": {},
   "outputs": [
    {
     "name": "stdout",
     "output_type": "stream",
     "text": [
      "<class 'pandas.core.frame.DataFrame'>\n",
      "RangeIndex: 139997 entries, 0 to 139996\n",
      "Data columns (total 9 columns):\n",
      " #   Column             Non-Null Count   Dtype \n",
      "---  ------             --------------   ----- \n",
      " 0   ДатаПродажи        139997 non-null  object\n",
      " 1   НомерЧека          139997 non-null  int64 \n",
      " 2   Номенклатура       139997 non-null  object\n",
      " 3   Штрихкод           139997 non-null  int64 \n",
      " 4   ТоварнаяГруппа     139997 non-null  object\n",
      " 5   СН_Характеристика  139996 non-null  object\n",
      " 6   бгсВес             139997 non-null  object\n",
      " 7   ОбщаяСумма         139997 non-null  object\n",
      " 8   Себестоимость      139997 non-null  object\n",
      "dtypes: int64(2), object(7)\n",
      "memory usage: 9.6+ MB\n",
      "None\n"
     ]
    }
   ],
   "source": [
    "print(df.info())"
   ]
  },
  {
   "cell_type": "code",
   "execution_count": 5,
   "id": "496b4b45-4bea-4980-9f44-a88ae049fc11",
   "metadata": {},
   "outputs": [
    {
     "name": "stdout",
     "output_type": "stream",
     "text": [
      "    ДатаПродажи  НомерЧека                              Номенклатура  \\\n",
      "0  4/1/23 10:05       1814          серьги с брил.+изумрудом с родир   \n",
      "1  4/1/23 10:08       4868                         Серьги с топазом    \n",
      "2  4/1/23 10:08        617  Кольцо с брилл.+изум.гидротерм. с родир.   \n",
      "3  4/1/23 10:11        461                       Кольцо с амет. род.   \n",
      "4  4/1/23 10:12       3939                     Цепь Якорь с а/г род.   \n",
      "\n",
      "        Штрихкод  ТоварнаяГруппа     СН_Характеристика бгсВес ОбщаяСумма  \\\n",
      "0  1078601904686       ДК СЕРЬГИ             Au 585º -   2,89      51180   \n",
      "1  1078551306013      ПДК СЕРЬГИ             Au 585º -   3,99      34740   \n",
      "2  1078509166518       ДК КОЛЬЦА  Au 585º -, разм.18,5   2,05      17760   \n",
      "3  1078579406088  СИ КОЛЬЦО ЦВ/К  Ag 925º -, разм.19,0   1,46        756   \n",
      "4  1078601866814         СИ ЦЕПЬ  Ag 925º -, разм.40,0    2,7       1560   \n",
      "\n",
      "  Себестоимость  \n",
      "0    17276,0475  \n",
      "1     12074,747  \n",
      "2      6629,612  \n",
      "3        302,22  \n",
      "4      458,9995  \n"
     ]
    }
   ],
   "source": [
    "print(df.head())"
   ]
  },
  {
   "cell_type": "code",
   "execution_count": 6,
   "id": "a7f48b80-68b2-4118-a55b-9a296d55df12",
   "metadata": {},
   "outputs": [],
   "source": [
    "df = pd.read_csv('shop.csv', parse_dates=[\"ДатаПродажи\"]) #формат даты в файле не подходит для работы с ним"
   ]
  },
  {
   "cell_type": "code",
   "execution_count": 8,
   "id": "2817f3a7-aded-4611-90f6-81fa52e53667",
   "metadata": {},
   "outputs": [],
   "source": [
    "df['ДатаПродажи'] = df['ДатаПродажи'].dt.floor(\"D\") #убираю время из даты\n",
    "df['ДатаПродажи'] = df['ДатаПродажи'].dt.strftime(\"%m%d%Y\") #убираю -\n",
    "df['ДатаПродажи'] = df['ДатаПродажи'].astype(str).astype(int) #перевожу в числовой формат"
   ]
  },
  {
   "cell_type": "code",
   "execution_count": 9,
   "id": "cea95f13-d598-410d-b4e8-b645ee2c2132",
   "metadata": {},
   "outputs": [],
   "source": [
    "def tofloat(total):\n",
    "    '''Для перевода общей суммы в числовой формат без учёта нулевых и отрицательных значений'''\n",
    "    if total[0] == '0':\n",
    "        return 0\n",
    "    elif total[0] == '-':\n",
    "        return 0\n",
    "    return round(float(total.replace(',', '.')), 2)"
   ]
  },
  {
   "cell_type": "code",
   "execution_count": 10,
   "id": "db3700a0-5b89-499f-8ade-5bf8356d3066",
   "metadata": {},
   "outputs": [],
   "source": [
    "df['ОбщаяСумма'] = df['ОбщаяСумма'].apply(tofloat) \n",
    "df['Себестоимость'] = df['Себестоимость'].apply(tofloat)"
   ]
  },
  {
   "cell_type": "code",
   "execution_count": 11,
   "id": "65dc3ad0-9deb-4b76-a861-807552fbbd13",
   "metadata": {},
   "outputs": [],
   "source": [
    "#фильтрую DataFrame для оставления нужных значений\n",
    "\n",
    "df = df[df['ОбщаяСумма'] != 0.00]\n",
    "df = df[df['Себестоимость'] != 0.00]\n",
    "df = df[df['ДатаПродажи'] <= 4102023]"
   ]
  },
  {
   "cell_type": "code",
   "execution_count": 12,
   "id": "8273af0e-9759-4618-b3d4-c9c5da57fe18",
   "metadata": {},
   "outputs": [],
   "source": [
    "def check(material):\n",
    "    '''Преобразование золота и серебра'''\n",
    "    if material[:2] == 'СИ':\n",
    "        return 'Серебро'\n",
    "    return 'Золото'"
   ]
  },
  {
   "cell_type": "code",
   "execution_count": 13,
   "id": "f69792fa-da75-474e-b9db-8fb5ee899b95",
   "metadata": {},
   "outputs": [],
   "source": [
    "df['ТоварнаяГруппа'] = df['ТоварнаяГруппа'].apply(check)\n",
    "df['Наценка'] = df['ОбщаяСумма'] - df['Себестоимость'] #создаю столбец для подсчёта наценки\n",
    "df = df.groupby(by = 'ТоварнаяГруппа')['Наценка'].mean() #и группирую по ней"
   ]
  },
  {
   "cell_type": "code",
   "execution_count": 14,
   "id": "c44e0600-4eae-4a69-8a25-20ccc98f41f6",
   "metadata": {},
   "outputs": [
    {
     "name": "stdout",
     "output_type": "stream",
     "text": [
      "Средняя наценка на золото: 8682.81\n",
      "Средняя наценка на серебро: 1304.24\n"
     ]
    }
   ],
   "source": [
    "print('Средняя наценка на золото:', round(df['Золото'], 2))\n",
    "print('Средняя наценка на серебро:', round(df['Серебро'], 2))\n"
   ]
  },
  {
   "cell_type": "code",
   "execution_count": null,
   "id": "e898059b-d559-40bd-b904-69aadbfcea64",
   "metadata": {},
   "outputs": [],
   "source": []
  }
 ],
 "metadata": {
  "kernelspec": {
   "display_name": "Python 3 (ipykernel)",
   "language": "python",
   "name": "python3"
  },
  "language_info": {
   "codemirror_mode": {
    "name": "ipython",
    "version": 3
   },
   "file_extension": ".py",
   "mimetype": "text/x-python",
   "name": "python",
   "nbconvert_exporter": "python",
   "pygments_lexer": "ipython3",
   "version": "3.10.11"
  }
 },
 "nbformat": 4,
 "nbformat_minor": 5
}
